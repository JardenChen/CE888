{
 "cells": [
  {
   "cell_type": "markdown",
   "metadata": {
    "colab_type": "text",
    "id": "view-in-github"
   },
   "source": [
    "<a href=\"https://colab.research.google.com/github/albanda/CE888/blob/master/lab2%20-%20bootstrap/bootstrap.ipynb\" target=\"_parent\"><img src=\"https://colab.research.google.com/assets/colab-badge.svg\" alt=\"Open In Colab\"/></a>"
   ]
  },
  {
   "cell_type": "markdown",
   "metadata": {
    "id": "nCi_99yMYIb1"
   },
   "source": [
    "In this notebook you'll create your own bootstrap function following the bootstrap algorithm (check the lecture notes!)"
   ]
  },
  {
   "cell_type": "code",
   "execution_count": 1,
   "metadata": {
    "id": "LY5zujI2YC37",
    "pycharm": {
     "name": "#%%# Imports\n"
    }
   },
   "outputs": [],
   "source": [
    "import matplotlib.pyplot as plt\n",
    "import pandas as pd\n",
    "import seaborn as sns\n",
    "import numpy as np\n"
   ]
  },
  {
   "cell_type": "code",
   "execution_count": 2,
   "metadata": {
    "id": "Eqkwj4SMY38t",
    "scrolled": false
   },
   "outputs": [],
   "source": [
    "# Load the data\n",
    "df = pd.read_csv('./customers.csv')\n",
    "data = df.values.T[1]"
   ]
  },
  {
   "cell_type": "code",
   "execution_count": 3,
   "metadata": {
    "id": "Gxvc_bScYC4H",
    "pycharm": {
     "name": "#%%\n"
    }
   },
   "outputs": [],
   "source": [
    "# Checking the notes from the lecture, create here your own bootstrap function:\n",
    "# 1. Sample from the input array x to create an array of samples of shape (n_bootstraps, sample_size)\n",
    "# Hint: Check the function random.choice() on Numpy\n",
    "# 2. Calculate and save the mean of the array (this is \"data_mean\" that is returned by the function)\n",
    "# 3. Calculate the mean from each bootstrap (i.e., row) and store it.\n",
    "# (This should be an array of n_bootstraps values)\n",
    "# 4. Calculate the lower and upper bounds for a 95% CI (hint: check the percentile function on Numpy)\n",
    "# 5. Return data_mean, and the lower and upper bounds of your interval\n",
    "def bootstrap_mean(x, sample_size, n_bootstraps):\n",
    "    ## bootstrap and save the means of samples\n",
    "    samples_mean = []\n",
    "    for _ in range(n_bootstraps):\n",
    "        sample = np.random.choice(x, size=sample_size, replace=True)\n",
    "        samples_mean.append(np.mean(sample))\n",
    "\n",
    "    ## calculate the quantiles\n",
    "    data_mean = np.mean(samples_mean)\n",
    "    lower, upper = np.percentile(samples_mean, [2.5, 97.5])\n",
    "\n",
    "    return data_mean, lower, upper"
   ]
  },
  {
   "cell_type": "code",
   "execution_count": 4,
   "metadata": {
    "id": "AN7sEOcMYC4P",
    "pycharm": {
     "name": "#%%\n"
    }
   },
   "outputs": [
    {
     "name": "stderr",
     "output_type": "stream",
     "text": [
      "D:\\Anaconda\\anaconda\\lib\\site-packages\\seaborn\\_decorators.py:43: FutureWarning: Pass the following variables as keyword args: x, y. From version 0.12, the only valid positional argument will be `data`, and passing other arguments without an explicit keyword will result in an error or misinterpretation.\n",
      "  FutureWarning\n"
     ]
    },
    {
     "data": {
      "image/png": "[encoded data removed]",
      "text/plain": [
       "<Figure size 425.125x360 with 1 Axes>"
      ]
     },
     "metadata": {
      "needs_background": "light"
     },
     "output_type": "display_data"
    }
   ],
   "source": [
    "# Call your bootstrap function and plot the results\n",
    "\n",
    "boots = []\n",
    "for i in range(100, 50000, 1000):\n",
    "    boot = bootstrap_mean(data, data.shape[0], i)\n",
    "    boots.append([i, boot[0], \"mean\"])\n",
    "    boots.append([i, boot[1], \"lower\"])\n",
    "    boots.append([i, boot[2], \"upper\"])\n",
    "\n",
    "df_boot = pd.DataFrame(boots, columns=['Bootstrap Iterations', 'Mean', \"Value\"])\n",
    "sns_plot = sns.lmplot(df_boot.columns[0], df_boot.columns[1], data=df_boot, fit_reg=False, hue=\"Value\")\n",
    "\n",
    "sns_plot.axes[0, 0].set_ylim(0,)\n",
    "sns_plot.axes[0, 0].set_xlim(0, 100000)\n",
    "plt.show()\n"
   ]
  },
  {
   "cell_type": "markdown",
   "metadata": {
    "id": "MjtP4e2_YC4V"
   },
   "source": [
    "\n",
    "Now, modify the bootstrap function you created above so that you can pass your desired confidence interval as a parameter.\n",
    "\n"
   ]
  },
  {
   "cell_type": "code",
   "execution_count": 5,
   "metadata": {
    "id": "3K9j0FuGYhHs"
   },
   "outputs": [],
   "source": [
    "def bootstrap_mean_ci(sample, sample_size, n_bootstraps, ci):\n",
    "    ## bootstrap and save the means of samples\n",
    "    samples_mean = []\n",
    "    for _ in range(n_bootstraps):\n",
    "        sample = np.random.choice(sample, size=sample_size, replace=True)\n",
    "        samples_mean.append(np.mean(sample))\n",
    "        \n",
    "    ## calculate the quantiles\n",
    "    data_mean = np.mean(samples_mean)\n",
    "    lower, upper = np.percentile(samples_mean, [50-ci/2, 50+ci/2])\n",
    "\n",
    "    return data_mean, lower, upper"
   ]
  },
  {
   "cell_type": "code",
   "execution_count": null,
   "metadata": {
    "id": "uDnjq08GYl-C"
   },
   "outputs": [],
   "source": [
    "boots = []\n",
    "for i in range(100, 50000, 1000):\n",
    "    boot = bootstrap_mean_ci(data, data.shape[0], i, 80)\n",
    "    boots.append([i, boot[0], \"mean\"])\n",
    "    boots.append([i, boot[1], \"lower\"])\n",
    "    boots.append([i, boot[2], \"upper\"])\n",
    "\n",
    "df_boot = pd.DataFrame(boots, columns=['Boostrap Iterations', 'Mean', \"Value\"])\n",
    "sns_plot = sns.lmplot(df_boot.columns[0], df_boot.columns[1], data=df_boot, fit_reg=False, hue=\"Value\")\n",
    "\n",
    "sns_plot.axes[0, 0].set_ylim(0,)\n",
    "sns_plot.axes[0, 0].set_xlim(0, 100000)\n",
    "plt.show()\n",
    "\n",
    "#sns_plot.savefig(\"bootstrap_confidence_80.pdf\", bbox_inches='tight')\n"
   ]
  },
  {
   "cell_type": "markdown",
   "metadata": {
    "id": "qjNgXW6wdd7r"
   },
   "source": [
    "# Vehicles dataset\n",
    "\n",
    "Now let's work on a different dataset, which is stored in the vehicles.csv file.\n"
   ]
  },
  {
   "cell_type": "code",
   "execution_count": null,
   "metadata": {
    "id": "avWv4ipFdpka"
   },
   "outputs": [],
   "source": [
    "# Load and visualise the vehicles dataset\n",
    "# To load the dataset: https://neptune.ai/blog/google-colab-dealing-with-files (check section \"Load individual files directly from GitHub\")\n",
    "\n",
    "\n",
    "# Note that the current and new fleets are in different columns and have different lengths, so bear this in mind when you're plotting.\n",
    "# You can create separate scatterplots for the two fleets, as you would with the histograms, \n",
    "# or plot them both in one plot (but not one against the other).\n",
    "# <---INSERT YOUR CODE HERE--->\n",
    "# Note: you can add more cells as needed to organise your code and your plots\n",
    "df = pd.read_csv('./vehicles.csv')\n",
    "print(df.columns)\n"
   ]
  },
  {
   "cell_type": "markdown",
   "metadata": {
    "id": "B5d0tXDpIEj8"
   },
   "source": [
    "## Compare the two fleets\n",
    "\n",
    "The business analysts come up a comparison algorithm that requires the upper and lower bounds for the mean in order to say which fleet is better.\n",
    "1. Calculate the mean of both samples.\n",
    "2. Using the bootstrap function that you created:\n",
    "    - Construct the 95% CI of the mean of the current fleet.\n",
    "    - Construct the 95% CI of the mean of the new fleet.\n",
    "    - Are they comparable? (i.e., is one better than the other?) -- you can do this with a permutation test (check the lecture notes!)"
   ]
  },
  {
   "cell_type": "code",
   "execution_count": null,
   "metadata": {
    "id": "po4mp6zRHC0m"
   },
   "outputs": [],
   "source": [
    "df['idx'] = df.index\n",
    "\n",
    "## two types\n",
    "df_scatter = pd.DataFrame(np.concatenate((df.iloc[:,[0, 2]].values, df.iloc[:,[1, 2]].values), axis=0), columns=[\"fleet\", \"idx\"])\n",
    "df_scatter_type = pd.DataFrame(np.append(1 * np.ones(df.shape[0]), 2 * np.ones(df.shape[0])), columns=[\"type\"])\n",
    "df_scatter = pd.concat([df_scatter, df_scatter_type], axis=1)\n",
    "\n",
    "## scatter\n",
    "sns.lmplot(x=\"idx\", y=\"fleet\", hue=\"type\", data=df_scatter, fit_reg = False)\n",
    "plt.show()\n",
    "\n",
    "## hist\n",
    "sns.histplot(x=\"fleet\", hue=\"type\", data=df_scatter, kde=False)\n",
    "plt.show()\n",
    "\n",
    "\n"
   ]
  },
  {
   "cell_type": "code",
   "execution_count": null,
   "metadata": {},
   "outputs": [],
   "source": [
    "df_current = df.iloc[:, 0]\n",
    "df_new = df.iloc[:, 1]\n",
    "df_new = df_new[~np.isnan(df_new)]\n",
    "mean_current = np.mean(df_current)\n",
    "mean_new = np.mean(df_new)\n",
    "print(\"mean of current : {}\\nmean of new : {}\\n\".format(mean_current, mean_new))\n",
    "\n",
    "boot = bootstrap_mean_ci(df_current, df.shape[0], 2000, 95)\n",
    "print(boot[1], boot[2])\n",
    "boot = bootstrap_mean_ci(df_new, df.shape[0], 2000, 95)\n",
    "print(boot[1], boot[2])"
   ]
  },
  {
   "cell_type": "code",
   "execution_count": null,
   "metadata": {
    "id": "MkxvDZG4HC0n"
   },
   "outputs": [],
   "source": [
    "# Create your own function for a permutation test here (you will need it for the lab quiz!):\n",
    "def permut_test(sample1, sample2, n_permutations):\n",
    "    \"\"\"\n",
    "    sample1: 1D array\n",
    "    sample2: 1D array (note that the size of the two arrays can be different)\n",
    "    n_permutations: number of permutations to calculate the p-value\n",
    "    \"\"\"\n",
    "\n",
    "    obs = np.mean(sample2) - np.mean(sample1)\n",
    "    num = 0\n",
    "    for _ in range(n_permutations):\n",
    "        s1 = np.random.choice(sample1, size=len(sample1), replace=True)\n",
    "        s2 = np.random.choice(sample2, size=len(sample2), replace=True)\n",
    "        if ((np.mean(s2) - np.mean(s1)) - obs) * np.sign(obs) > 0:\n",
    "            num += 1\n",
    "    pvalue = num / n_permutations\n",
    "\n",
    "    return pvalue\n",
    "\n",
    "permut_test(df_current, df_current, 10000)"
   ]
  }
 ],
 "metadata": {
  "colab": {
   "include_colab_link": true,
   "name": "bootstrap.ipynb",
   "provenance": []
  },
  "kernelspec": {
   "display_name": "Python 3",
   "language": "python",
   "name": "python3"
  },
  "language_info": {
   "codemirror_mode": {
    "name": "ipython",
    "version": 3
   },
   "file_extension": ".py",
   "mimetype": "text/x-python",
   "name": "python",
   "nbconvert_exporter": "python",
   "pygments_lexer": "ipython3",
   "version": "3.7.6"
  },
  "pycharm": {
   "stem_cell": {
    "cell_type": "raw",
    "metadata": {
     "collapsed": false
    },
    "source": []
   }
  }
 },
 "nbformat": 4,
 "nbformat_minor": 1
}

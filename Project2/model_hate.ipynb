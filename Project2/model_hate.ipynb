{
 "cells": [
  {
   "cell_type": "code",
   "execution_count": null,
   "id": "plain-mission",
   "metadata": {},
   "outputs": [],
   "source": [
    "import numpy as np"
   ]
  },
  {
   "cell_type": "code",
   "execution_count": null,
   "id": "electrical-adrian",
   "metadata": {},
   "outputs": [],
   "source": [
    "with open('./datasets/hate/train_embedding.csv', 'r') as input:\n",
    "    embeds = input.read().split('\\n')\n",
    "    embeds = [ [ float(i) for i in embed.split(',') ] for embed in embeds if embed is not '']"
   ]
  },
  {
   "cell_type": "code",
   "execution_count": null,
   "id": "acting-possession",
   "metadata": {},
   "outputs": [],
   "source": [
    "embeds = np.array(embeds)"
   ]
  },
  {
   "cell_type": "code",
   "execution_count": null,
   "id": "stuffed-value",
   "metadata": {},
   "outputs": [],
   "source": [
    "labels = np.loadtxt('./datasets/hate/train_labels.txt')"
   ]
  },
  {
   "cell_type": "code",
   "execution_count": null,
   "id": "spare-auction",
   "metadata": {},
   "outputs": [],
   "source": [
    "data_size = len(labels)"
   ]
  },
  {
   "cell_type": "code",
   "execution_count": null,
   "id": "extreme-digit",
   "metadata": {},
   "outputs": [],
   "source": [
    "embeds = embeds[0:len(labels), :]"
   ]
  },
  {
   "cell_type": "code",
   "execution_count": null,
   "id": "wrapped-european",
   "metadata": {},
   "outputs": [],
   "source": [
    "import torch\n",
    "import torch.nn as nn\n",
    "import torch.nn.functional as F\n",
    "import torch.optim as optim\n",
    "\n",
    "device = torch.device(\"cuda:0\" if torch.cuda.is_available() else \"cpu\")"
   ]
  },
  {
   "cell_type": "code",
   "execution_count": null,
   "id": "heated-diabetes",
   "metadata": {},
   "outputs": [],
   "source": [
    "class Net(nn.Module):\n",
    "    def __init__(self):\n",
    "        super(Net, self).__init__()\n",
    "        self.fc1 = nn.Linear(768, 120)\n",
    "        self.fc2 = nn.Linear(120, 84)\n",
    "        self.fc3 = nn.Linear(84, 2)\n",
    "\n",
    "    def forward(self, x):\n",
    "        x = F.relu(self.fc1(x))\n",
    "        x = F.relu(self.fc2(x))\n",
    "        x = F.softmax(self.fc3(x), dim=1)\n",
    "#         x = self.fc3(x)\n",
    "        return x"
   ]
  },
  {
   "cell_type": "code",
   "execution_count": null,
   "id": "unusual-jackson",
   "metadata": {},
   "outputs": [],
   "source": [
    "net = Net().to(device)\n",
    "gpu_labels = torch.tensor(labels).to(device)\n",
    "gpu_embeds = torch.tensor(embeds, dtype=torch.float32).to(device)"
   ]
  },
  {
   "cell_type": "code",
   "execution_count": null,
   "id": "laughing-hepatitis",
   "metadata": {},
   "outputs": [],
   "source": [
    "criterion = nn.CrossEntropyLoss()\n",
    "optimizer = optim.SGD(net.parameters(), lr=0.001, momentum=0.9)"
   ]
  },
  {
   "cell_type": "code",
   "execution_count": null,
   "id": "vietnamese-montgomery",
   "metadata": {},
   "outputs": [],
   "source": [
    "batch_size = 32\n",
    "for epoch in range(200):\n",
    "    running_loss = 0.0\n",
    "    for i in range( (data_size-1) // batch_size + 1 ):\n",
    "        inputs = gpu_embeds[i*batch_size : min( (i+1)*batch_size, data_size), :]\n",
    "        standards = gpu_labels[i*batch_size : min( (i+1)*batch_size, data_size)]\n",
    "        \n",
    "        # zero the parameter gradients\n",
    "        optimizer.zero_grad()\n",
    "\n",
    "        # forward + backward + optimize\n",
    "        outputs = net(inputs)\n",
    "#         _, predicted = torch.max(outputs.data, 1)\n",
    "        loss = criterion(outputs.float(), standards.long())\n",
    "        loss.backward()\n",
    "        optimizer.step()\n",
    "\n",
    "        # print statistics\n",
    "        running_loss += loss.item()\n",
    "        if i % 10000 == 9999:    # print every 100 mini-batches\n",
    "            print('[%d, %5d] loss: %.3f' %\n",
    "                  (epoch + 1, i + 1, running_loss / 10000))\n",
    "            running_loss = 0.0"
   ]
  },
  {
   "cell_type": "code",
   "execution_count": null,
   "id": "spare-prairie",
   "metadata": {},
   "outputs": [],
   "source": [
    "print('Finished Training')"
   ]
  },
  {
   "cell_type": "code",
   "execution_count": null,
   "id": "planned-provincial",
   "metadata": {},
   "outputs": [],
   "source": [
    "NETPATH = './hate_net.pth'\n",
    "torch.save(net.state_dict(), NETPATH)"
   ]
  },
  {
   "cell_type": "code",
   "execution_count": null,
   "id": "adolescent-crime",
   "metadata": {},
   "outputs": [],
   "source": [
    "correct = 0\n",
    "\n",
    "with open('./datasets/hate/test_embedding.csv', 'r') as input:\n",
    "    embeds = input.read().split('\\n')\n",
    "    embeds = [ [ float(i) for i in embed.split(',') ] for embed in embeds if embed is not '']\n",
    "    \n",
    "embeds = np.array(embeds)\n",
    "labels = np.loadtxt('./datasets/hate/train_labels.txt')\n",
    "data_size = len(labels)\n",
    "embeds = embeds[0:len(labels), :]\n",
    "    \n",
    "gpu_labels_test = torch.tensor(labels).to(device)\n",
    "gpu_embeds_test = torch.tensor(embeds, dtype=torch.float32).to(device)\n",
    "\n",
    "with torch.no_grad():\n",
    "    outputs = net(gpu_embeds_test)\n",
    "    _, predicted = torch.max(outputs.data, 1)\n",
    "    correct += (predicted == gpu_labels_test).sum().item()\n",
    "\n",
    "print('Accuracy of the network on the 10000 test images: %d %%' % (100 * correct / data_size))"
   ]
  }
 ],
 "metadata": {
  "kernelspec": {
   "display_name": "Python 3",
   "language": "python",
   "name": "python3"
  },
  "language_info": {
   "codemirror_mode": {
    "name": "ipython",
    "version": 3
   },
   "file_extension": ".py",
   "mimetype": "text/x-python",
   "name": "python",
   "nbconvert_exporter": "python",
   "pygments_lexer": "ipython3",
   "version": "3.7.9"
  }
 },
 "nbformat": 4,
 "nbformat_minor": 5
}
